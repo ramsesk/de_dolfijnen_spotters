{
 "cells": [
  {
   "cell_type": "code",
   "execution_count": 1,
   "id": "1b5440cc",
   "metadata": {},
   "outputs": [],
   "source": [
    "import pandas as pd\n",
    "import numpy as np\n",
    "import boto3\n",
    "import os\n",
    "import shutil\n",
    "import numpy as np\n",
    "import pandas as pd\n",
    "\n",
    "from ast import literal_eval"
   ]
  },
  {
   "cell_type": "code",
   "execution_count": 2,
   "id": "0cdf7294",
   "metadata": {},
   "outputs": [],
   "source": [
    "def map_per_image(label, predictions):\n",
    "    \"\"\"Computes the precision score of one image.\n",
    "\n",
    "    Parameters\n",
    "    ----------\n",
    "    label : string\n",
    "            The true label of the image\n",
    "    predictions : list\n",
    "            A list of predicted elements (order does matter, 5 predictions allowed per image)\n",
    "\n",
    "    Returns\n",
    "    -------\n",
    "    score : double\n",
    "    \"\"\"    \n",
    "    try:\n",
    "        return 1 / (predictions[:5].index(label) + 1)\n",
    "    except ValueError:\n",
    "        return 0.0\n",
    "\n",
    "def map_per_set(labels, predictions):\n",
    "    \"\"\"Computes the average over multiple images.\n",
    "\n",
    "    Parameters\n",
    "    ----------\n",
    "    labels : list\n",
    "             A list of the true labels. (Only one true label per images allowed!)\n",
    "    predictions : list of list\n",
    "             A list of predicted elements (order does matter, 5 predictions allowed per image)\n",
    "\n",
    "    Returns\n",
    "    -------\n",
    "    score : double\n",
    "    \"\"\"\n",
    "    return np.mean([map_per_image(l, p) for l,p in zip(labels, predictions)])\n",
    "\n",
    "\n",
    "\n",
    "s3 = boto3.resource('s3') # assumes credentials & configuration are handled outside python in .aws directory or environment variables\n",
    "\n",
    "def download_s3_folder(bucket_name, s3_folder, local_dir=None):\n",
    "    \"\"\"\n",
    "    Download the contents of a folder directory\n",
    "    Args:\n",
    "        bucket_name: the name of the s3 bucket\n",
    "        s3_folder: the folder path in the s3 bucket\n",
    "        local_dir: a relative or absolute directory path in the local file system\n",
    "    \"\"\"\n",
    "    bucket = s3.Bucket(bucket_name)\n",
    "    for obj in bucket.objects.filter(Prefix=s3_folder):\n",
    "        target = obj.key if local_dir is None \\\n",
    "            else os.path.join(local_dir, os.path.relpath(obj.key, s3_folder))\n",
    "        if not os.path.exists(os.path.dirname(target)):\n",
    "            os.makedirs(os.path.dirname(target))\n",
    "        if obj.key[-1] == '/':\n",
    "            continue\n",
    "        bucket.download_file(obj.key, target)\n",
    "        "
   ]
  },
  {
   "cell_type": "markdown",
   "id": "c772fcf1",
   "metadata": {},
   "source": [
    "# Read the predictions"
   ]
  },
  {
   "cell_type": "code",
   "execution_count": 3,
   "id": "5640b136",
   "metadata": {},
   "outputs": [],
   "source": [
    "predictions = pd.read_csv('final_predictions.csv', converters={'predictions': literal_eval})"
   ]
  },
  {
   "cell_type": "markdown",
   "id": "ab1e0f00",
   "metadata": {},
   "source": [
    "# Read the holdout set"
   ]
  },
  {
   "cell_type": "code",
   "execution_count": 5,
   "id": "df17438d",
   "metadata": {},
   "outputs": [],
   "source": [
    "os.mkdir('holdout')\n",
    "s3 = boto3.resource('s3') # assumes credentials & configuration are handled outside python in .aws directory or environment variables\n",
    "bucket = s3.Bucket('hackathon-whale-dolphin-compressed')\n",
    "bucket.download_file('holdout_y.csv', 'holdout_y_final.csv')\n",
    "holdout = pd.read_csv('holdout_y_final.csv')\n",
    "download_s3_folder('hackathon-whale-dolphin-compressed', 'holdout',local_dir='holdout')"
   ]
  },
  {
   "cell_type": "code",
   "execution_count": 5,
   "id": "fd052e1b",
   "metadata": {},
   "outputs": [
    {
     "data": {
      "text/html": [
       "<div>\n",
       "<style scoped>\n",
       "    .dataframe tbody tr th:only-of-type {\n",
       "        vertical-align: middle;\n",
       "    }\n",
       "\n",
       "    .dataframe tbody tr th {\n",
       "        vertical-align: top;\n",
       "    }\n",
       "\n",
       "    .dataframe thead th {\n",
       "        text-align: right;\n",
       "    }\n",
       "</style>\n",
       "<table border=\"1\" class=\"dataframe\">\n",
       "  <thead>\n",
       "    <tr style=\"text-align: right;\">\n",
       "      <th></th>\n",
       "      <th>image</th>\n",
       "      <th>predictions</th>\n",
       "    </tr>\n",
       "  </thead>\n",
       "  <tbody>\n",
       "    <tr>\n",
       "      <th>0</th>\n",
       "      <td>57cae124515b2d.jpg</td>\n",
       "      <td>[f195c38bcf17, a9f87526d3ef, 24abce9b3f11, 4e1...</td>\n",
       "    </tr>\n",
       "    <tr>\n",
       "      <th>1</th>\n",
       "      <td>094d2dfb60370f.jpg</td>\n",
       "      <td>[66423582531a, 9f3613b5c45b, 3e5426121fce, 2e2...</td>\n",
       "    </tr>\n",
       "    <tr>\n",
       "      <th>2</th>\n",
       "      <td>40c97c14da3308.jpg</td>\n",
       "      <td>[a265c977dc30, 76b5aad6b790, 7ca409a5c15b, 910...</td>\n",
       "    </tr>\n",
       "    <tr>\n",
       "      <th>3</th>\n",
       "      <td>ea79e90cf8e8c4.jpg</td>\n",
       "      <td>[7924af72aa50, 4b228615a4b1, ffbb4e585ff2, 03c...</td>\n",
       "    </tr>\n",
       "    <tr>\n",
       "      <th>4</th>\n",
       "      <td>1f430013db7d8b.jpg</td>\n",
       "      <td>[8deb2171580e, 559af6cf3cc5, 25645f54d219, 208...</td>\n",
       "    </tr>\n",
       "  </tbody>\n",
       "</table>\n",
       "</div>"
      ],
      "text/plain": [
       "                image                                        predictions\n",
       "0  57cae124515b2d.jpg  [f195c38bcf17, a9f87526d3ef, 24abce9b3f11, 4e1...\n",
       "1  094d2dfb60370f.jpg  [66423582531a, 9f3613b5c45b, 3e5426121fce, 2e2...\n",
       "2  40c97c14da3308.jpg  [a265c977dc30, 76b5aad6b790, 7ca409a5c15b, 910...\n",
       "3  ea79e90cf8e8c4.jpg  [7924af72aa50, 4b228615a4b1, ffbb4e585ff2, 03c...\n",
       "4  1f430013db7d8b.jpg  [8deb2171580e, 559af6cf3cc5, 25645f54d219, 208..."
      ]
     },
     "execution_count": 5,
     "metadata": {},
     "output_type": "execute_result"
    }
   ],
   "source": [
    "predictions.head()"
   ]
  },
  {
   "cell_type": "code",
   "execution_count": 9,
   "id": "827e05b4",
   "metadata": {},
   "outputs": [],
   "source": [
    "holdout['individual_id'] = np.where(holdout['count']==1, 'new_individual', holdout['individual_id'])"
   ]
  },
  {
   "cell_type": "code",
   "execution_count": 10,
   "id": "c8663bde",
   "metadata": {},
   "outputs": [
    {
     "data": {
      "text/html": [
       "<div>\n",
       "<style scoped>\n",
       "    .dataframe tbody tr th:only-of-type {\n",
       "        vertical-align: middle;\n",
       "    }\n",
       "\n",
       "    .dataframe tbody tr th {\n",
       "        vertical-align: top;\n",
       "    }\n",
       "\n",
       "    .dataframe thead th {\n",
       "        text-align: right;\n",
       "    }\n",
       "</style>\n",
       "<table border=\"1\" class=\"dataframe\">\n",
       "  <thead>\n",
       "    <tr style=\"text-align: right;\">\n",
       "      <th></th>\n",
       "      <th>image</th>\n",
       "      <th>species</th>\n",
       "      <th>individual_id</th>\n",
       "      <th>class</th>\n",
       "      <th>path</th>\n",
       "      <th>count</th>\n",
       "      <th>cumcount</th>\n",
       "    </tr>\n",
       "  </thead>\n",
       "  <tbody>\n",
       "    <tr>\n",
       "      <th>0</th>\n",
       "      <td>57cae124515b2d.jpg</td>\n",
       "      <td>bottlenose_dolphin</td>\n",
       "      <td>005cab4fa315</td>\n",
       "      <td>dolphin</td>\n",
       "      <td>./train/57cae124515b2d.jpg</td>\n",
       "      <td>2</td>\n",
       "      <td>0</td>\n",
       "    </tr>\n",
       "    <tr>\n",
       "      <th>1</th>\n",
       "      <td>094d2dfb60370f.jpg</td>\n",
       "      <td>short_finned_pilot_whale</td>\n",
       "      <td>new_individual</td>\n",
       "      <td>whale</td>\n",
       "      <td>./train/094d2dfb60370f.jpg</td>\n",
       "      <td>1</td>\n",
       "      <td>0</td>\n",
       "    </tr>\n",
       "    <tr>\n",
       "      <th>2</th>\n",
       "      <td>40c97c14da3308.jpg</td>\n",
       "      <td>bottlenose_dolphin</td>\n",
       "      <td>018aaba90625</td>\n",
       "      <td>dolphin</td>\n",
       "      <td>./train/40c97c14da3308.jpg</td>\n",
       "      <td>30</td>\n",
       "      <td>0</td>\n",
       "    </tr>\n",
       "    <tr>\n",
       "      <th>3</th>\n",
       "      <td>ea79e90cf8e8c4.jpg</td>\n",
       "      <td>spotted_dolphin</td>\n",
       "      <td>new_individual</td>\n",
       "      <td>dolphin</td>\n",
       "      <td>./train/ea79e90cf8e8c4.jpg</td>\n",
       "      <td>1</td>\n",
       "      <td>0</td>\n",
       "    </tr>\n",
       "    <tr>\n",
       "      <th>4</th>\n",
       "      <td>1f430013db7d8b.jpg</td>\n",
       "      <td>short_finned_pilot_whale</td>\n",
       "      <td>01fe58b26fa5</td>\n",
       "      <td>whale</td>\n",
       "      <td>./train/1f430013db7d8b.jpg</td>\n",
       "      <td>3</td>\n",
       "      <td>0</td>\n",
       "    </tr>\n",
       "  </tbody>\n",
       "</table>\n",
       "</div>"
      ],
      "text/plain": [
       "                image                   species   individual_id    class  \\\n",
       "0  57cae124515b2d.jpg        bottlenose_dolphin    005cab4fa315  dolphin   \n",
       "1  094d2dfb60370f.jpg  short_finned_pilot_whale  new_individual    whale   \n",
       "2  40c97c14da3308.jpg        bottlenose_dolphin    018aaba90625  dolphin   \n",
       "3  ea79e90cf8e8c4.jpg           spotted_dolphin  new_individual  dolphin   \n",
       "4  1f430013db7d8b.jpg  short_finned_pilot_whale    01fe58b26fa5    whale   \n",
       "\n",
       "                         path  count  cumcount  \n",
       "0  ./train/57cae124515b2d.jpg      2         0  \n",
       "1  ./train/094d2dfb60370f.jpg      1         0  \n",
       "2  ./train/40c97c14da3308.jpg     30         0  \n",
       "3  ./train/ea79e90cf8e8c4.jpg      1         0  \n",
       "4  ./train/1f430013db7d8b.jpg      3         0  "
      ]
     },
     "execution_count": 10,
     "metadata": {},
     "output_type": "execute_result"
    }
   ],
   "source": [
    "holdout.head()"
   ]
  },
  {
   "cell_type": "markdown",
   "id": "de21cb32",
   "metadata": {},
   "source": [
    "# Final MAP@5 score"
   ]
  },
  {
   "cell_type": "code",
   "execution_count": 7,
   "id": "71ac8919",
   "metadata": {},
   "outputs": [
    {
     "data": {
      "text/plain": [
       "0.0008896302474284126"
      ]
     },
     "execution_count": 7,
     "metadata": {},
     "output_type": "execute_result"
    }
   ],
   "source": [
    "map_per_set(holdout['individual_id'].to_list(),predictions['predictions'].to_list())"
   ]
  }
 ],
 "metadata": {
  "kernelspec": {
   "display_name": "conda_python3",
   "language": "python",
   "name": "conda_python3"
  },
  "language_info": {
   "codemirror_mode": {
    "name": "ipython",
    "version": 3
   },
   "file_extension": ".py",
   "mimetype": "text/x-python",
   "name": "python",
   "nbconvert_exporter": "python",
   "pygments_lexer": "ipython3",
   "version": "3.8.12"
  }
 },
 "nbformat": 4,
 "nbformat_minor": 5
}
