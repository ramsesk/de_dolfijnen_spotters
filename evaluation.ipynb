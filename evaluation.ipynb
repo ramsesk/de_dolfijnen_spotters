{
 "cells": [
  {
   "cell_type": "code",
   "execution_count": 6,
   "id": "70d11bbe",
   "metadata": {},
   "outputs": [],
   "source": [
    "import numpy as np"
   ]
  },
  {
   "cell_type": "code",
   "execution_count": 8,
   "id": "5882526f",
   "metadata": {},
   "outputs": [],
   "source": [
    "def map_per_image(label, predictions):\n",
    "    \"\"\"Computes the precision score of one image.\n",
    "\n",
    "    Parameters\n",
    "    ----------\n",
    "    label : string\n",
    "            The true label of the image\n",
    "    predictions : list\n",
    "            A list of predicted elements (order does matter, 5 predictions allowed per image)\n",
    "\n",
    "    Returns\n",
    "    -------\n",
    "    score : double\n",
    "    \"\"\"    \n",
    "    try:\n",
    "        return 1 / (predictions[:5].index(label) + 1)\n",
    "    except ValueError:\n",
    "        return 0.0\n",
    "\n",
    "def map_per_set(labels, predictions):\n",
    "    \"\"\"Computes the average over multiple images.\n",
    "\n",
    "    Parameters\n",
    "    ----------\n",
    "    labels : list\n",
    "             A list of the true labels. (Only one true label per images allowed!)\n",
    "    predictions : list of list\n",
    "             A list of predicted elements (order does matter, 5 predictions allowed per image)\n",
    "\n",
    "    Returns\n",
    "    -------\n",
    "    score : double\n",
    "    \"\"\"\n",
    "    return np.mean([map_per_image(l, p) for l,p in zip(labels, predictions)])\n",
    "\n"
   ]
  },
  {
   "cell_type": "markdown",
   "id": "e5ab6baf",
   "metadata": {},
   "source": [
    "# Evaluation examples:"
   ]
  },
  {
   "cell_type": "markdown",
   "id": "5f994ceb",
   "metadata": {},
   "source": [
    "## The goal of this hackathon is to get highest MAP@5, so 5 predictions per row."
   ]
  },
  {
   "cell_type": "markdown",
   "id": "297c8c1d",
   "metadata": {},
   "source": [
    "### Calculation AP@5"
   ]
  },
  {
   "cell_type": "code",
   "execution_count": 26,
   "id": "9139abfc",
   "metadata": {},
   "outputs": [],
   "source": [
    "assert map_per_image('a', ['a', 'b', 'c', 'd', 'e']) == 1.0\n",
    "assert map_per_image('a', ['b', 'a', 'c', 'd', 'e']) == 0.5\n",
    "assert map_per_image('a', ['c', 'b', 'a', 'd', 'e']) == 1/3\n",
    "assert map_per_image('a', ['d', 'b', 'c', 'a', 'e']) == 0.25\n",
    "assert map_per_image('a', ['e', 'b', 'c', 'd', 'a']) == 0.2\n",
    "assert map_per_image('a', ['z', 'b', 'c', 'd', 'e']) == 0.0\n"
   ]
  },
  {
   "cell_type": "markdown",
   "id": "c02f6195",
   "metadata": {},
   "source": [
    "##### Is the same as (but you have to hand in 5 predictions for each image):"
   ]
  },
  {
   "cell_type": "code",
   "execution_count": 27,
   "id": "ce0ce4d4",
   "metadata": {},
   "outputs": [],
   "source": [
    "assert map_per_image('a', ['a']) == 1.0\n",
    "assert map_per_image('a', ['b', 'a']) == 0.5\n",
    "assert map_per_image('a', ['c', 'b', 'a']) == 1/3\n",
    "assert map_per_image('a', ['d', 'b', 'c', 'a']) == 0.25\n",
    "assert map_per_image('a', ['e', 'b', 'c', 'd', 'a']) == 0.2\n",
    "assert map_per_image('a', ['z', 'b', 'c', 'd', 'e']) == 0.0"
   ]
  },
  {
   "cell_type": "markdown",
   "id": "53942a02",
   "metadata": {},
   "source": [
    "### Calculation of MAP@5"
   ]
  },
  {
   "cell_type": "code",
   "execution_count": 32,
   "id": "d39ecb31",
   "metadata": {},
   "outputs": [
    {
     "data": {
      "text/plain": [
       "0.75"
      ]
     },
     "execution_count": 32,
     "metadata": {},
     "output_type": "execute_result"
    }
   ],
   "source": [
    "map_per_set(['a', 'a'], [['a', 'b', 'c', 'd', 'e'], ['b', 'a', 'c', 'd', 'e']])"
   ]
  },
  {
   "cell_type": "markdown",
   "id": "6e6607cf",
   "metadata": {},
   "source": [
    "##### This is the same as:"
   ]
  },
  {
   "cell_type": "code",
   "execution_count": 33,
   "id": "e5d7800f",
   "metadata": {},
   "outputs": [
    {
     "name": "stdout",
     "output_type": "stream",
     "text": [
      "0.75\n"
     ]
    }
   ],
   "source": [
    "a = map_per_image('a', ['a', 'b', 'c', 'd', 'e'])\n",
    "b = map_per_image('a', ['b', 'a', 'c', 'd', 'e'])\n",
    "print((a+b)/2)"
   ]
  }
 ],
 "metadata": {
  "kernelspec": {
   "display_name": "conda_python3",
   "language": "python",
   "name": "conda_python3"
  },
  "language_info": {
   "codemirror_mode": {
    "name": "ipython",
    "version": 3
   },
   "file_extension": ".py",
   "mimetype": "text/x-python",
   "name": "python",
   "nbconvert_exporter": "python",
   "pygments_lexer": "ipython3",
   "version": "3.8.12"
  }
 },
 "nbformat": 4,
 "nbformat_minor": 5
}
